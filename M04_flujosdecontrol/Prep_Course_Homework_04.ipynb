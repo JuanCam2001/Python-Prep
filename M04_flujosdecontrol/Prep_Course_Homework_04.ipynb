{
 "cells": [
  {
   "attachments": {},
   "cell_type": "markdown",
   "metadata": {},
   "source": [
    "## Flujos de Control"
   ]
  },
  {
   "attachments": {},
   "cell_type": "markdown",
   "metadata": {},
   "source": [
    "1) Crear una variable que contenga un elemento del conjunto de números enteros y luego imprimir por pantalla si es mayor o menor a cero"
   ]
  },
  {
   "cell_type": "code",
   "execution_count": 52,
   "metadata": {},
   "outputs": [
    {
     "name": "stdout",
     "output_type": "stream",
     "text": [
      "El numero  1  es mayor que cero\n",
      "El numero  3  es mayor que cero\n",
      "El numero  5  es mayor que cero\n",
      "El numero  8  es mayor que cero\n"
     ]
    }
   ],
   "source": [
    "numeros=[1,-2,3,-4,5,-6,-7,8]\n",
    "for num in numeros:\n",
    "    if num>0:\n",
    "        print(\"El numero \",num,\" es mayor que cero\")"
   ]
  },
  {
   "attachments": {},
   "cell_type": "markdown",
   "metadata": {},
   "source": [
    "2) Crear dos variables y un condicional que informe si son del mismo tipo de dato"
   ]
  },
  {
   "cell_type": "code",
   "execution_count": 53,
   "metadata": {},
   "outputs": [
    {
     "name": "stdout",
     "output_type": "stream",
     "text": [
      "Las variables no son del mismo tiempo\n"
     ]
    }
   ],
   "source": [
    "n=2\n",
    "m='juan'\n",
    "if type(n)==type(m):\n",
    "    print(\"Las variables son del mismo tipo\")\n",
    "else:\n",
    "    print(\"Las variables no son del mismo tiempo\")"
   ]
  },
  {
   "attachments": {},
   "cell_type": "markdown",
   "metadata": {},
   "source": [
    "3) Para los valores enteros del 1 al 20, imprimir por pantalla si es par o impar"
   ]
  },
  {
   "cell_type": "code",
   "execution_count": 54,
   "metadata": {},
   "outputs": [
    {
     "name": "stdout",
     "output_type": "stream",
     "text": [
      "El numero  1  es impar\n",
      "El numero  2  es par\n",
      "El numero  3  es impar\n",
      "El numero  4  es par\n",
      "El numero  5  es impar\n",
      "El numero  6  es par\n",
      "El numero  7  es impar\n",
      "El numero  8  es par\n",
      "El numero  9  es impar\n",
      "El numero  10  es par\n",
      "El numero  11  es impar\n",
      "El numero  12  es par\n",
      "El numero  13  es impar\n",
      "El numero  14  es par\n",
      "El numero  15  es impar\n",
      "El numero  16  es par\n",
      "El numero  17  es impar\n",
      "El numero  18  es par\n",
      "El numero  19  es impar\n",
      "El numero  20  es par\n"
     ]
    }
   ],
   "source": [
    "for numero in range (1,21):\n",
    "    if numero%2==0:\n",
    "        print(\"El numero \",numero,\" es par\")\n",
    "    else:\n",
    "        print(\"El numero \",numero,\" es impar\")"
   ]
  },
  {
   "attachments": {},
   "cell_type": "markdown",
   "metadata": {},
   "source": [
    "4) En un ciclo for mostrar para los valores entre 0 y 5 el resultado de elevarlo a la potencia igual a 3"
   ]
  },
  {
   "cell_type": "code",
   "execution_count": 55,
   "metadata": {},
   "outputs": [
    {
     "name": "stdout",
     "output_type": "stream",
     "text": [
      "0\n",
      "1\n",
      "8\n",
      "27\n",
      "64\n",
      "125\n"
     ]
    }
   ],
   "source": [
    "for numero in range(0,6):\n",
    "    numero**=3\n",
    "    print(numero)"
   ]
  },
  {
   "attachments": {},
   "cell_type": "markdown",
   "metadata": {},
   "source": [
    "5) Crear una variable que contenga un número entero y realizar un ciclo for la misma cantidad de ciclos"
   ]
  },
  {
   "cell_type": "code",
   "execution_count": 56,
   "metadata": {},
   "outputs": [
    {
     "name": "stdout",
     "output_type": "stream",
     "text": [
      "num 1\n",
      "num 2\n",
      "num 3\n",
      "num 4\n",
      "num 5\n",
      "num 6\n",
      "num 7\n",
      "num 8\n",
      "num 9\n",
      "num 10\n"
     ]
    }
   ],
   "source": [
    "n=10\n",
    "for numero in range (n):\n",
    "    print(f\"num {numero+1}\")"
   ]
  },
  {
   "attachments": {},
   "cell_type": "markdown",
   "metadata": {},
   "source": [
    "6) Utilizar un ciclo while para realizar el factorial de un número guardado en una variable, sólo si la variable contiene un número entero mayor a 0"
   ]
  },
  {
   "cell_type": "code",
   "execution_count": 57,
   "metadata": {},
   "outputs": [
    {
     "name": "stdout",
     "output_type": "stream",
     "text": [
      "El factorial de 4 es: 24\n"
     ]
    }
   ],
   "source": [
    "# Solicitar al usuario ingresar un número entero mayor que 0\n",
    "numero = 4\n",
    "\n",
    "# Verificar si el número ingresado es válido\n",
    "if numero <= 0:\n",
    "    print(\"El número ingresado no es válido. Debe ser un entero mayor que 0.\")\n",
    "else:\n",
    "    factorial = 1\n",
    "    i = 1\n",
    "\n",
    "    # Calcular el factorial utilizando un ciclo while\n",
    "    while i <= numero:\n",
    "        factorial *= i\n",
    "        i += 1\n",
    "\n",
    "    print(\"El factorial de\", numero, \"es:\", factorial)"
   ]
  },
  {
   "attachments": {},
   "cell_type": "markdown",
   "metadata": {},
   "source": [
    "7) Crear un ciclo for dentro de un ciclo while"
   ]
  },
  {
   "cell_type": "code",
   "execution_count": 58,
   "metadata": {},
   "outputs": [
    {
     "name": "stdout",
     "output_type": "stream",
     "text": [
      "Iteración 1\n",
      "Iteración 2\n",
      "Iteración 3\n",
      "Iteración 4\n",
      "Iteración 5\n",
      "Iteración 1\n",
      "Iteración 2\n",
      "Iteración 3\n",
      "Iteración 4\n",
      "Iteración 1\n",
      "Iteración 2\n",
      "Iteración 3\n",
      "Iteración 1\n",
      "Iteración 2\n",
      "Iteración 1\n",
      "Fin del ciclo\n"
     ]
    }
   ],
   "source": [
    "numero = 5\n",
    "\n",
    "while numero > 0:\n",
    "  for i in range(numero):\n",
    "    print(f\"Iteración {i + 1}\")\n",
    "  numero -= 1\n",
    "\n",
    "print(\"Fin del ciclo\")"
   ]
  },
  {
   "attachments": {},
   "cell_type": "markdown",
   "metadata": {},
   "source": [
    "8) Crear un ciclo while dentro de un ciclo for"
   ]
  },
  {
   "cell_type": "code",
   "execution_count": 59,
   "metadata": {},
   "outputs": [
    {
     "name": "stdout",
     "output_type": "stream",
     "text": [
      "La palabra más larga es laboratorioelectro\n"
     ]
    }
   ],
   "source": [
    "palabras = [\"Hola\", \"mundo\", \"laboratorioelectro\", \"maravilloso\"]\n",
    "palabra_mas_larga = None\n",
    "\n",
    "for palabra in palabras:\n",
    "  longitud = 0\n",
    "  while longitud < len(palabra):\n",
    "    if palabra_mas_larga is None or len(palabra) > len(palabra_mas_larga):\n",
    "      palabra_mas_larga = palabra\n",
    "    longitud += 1\n",
    "\n",
    "print(f\"La palabra más larga es {palabra_mas_larga}\")\n"
   ]
  },
  {
   "attachments": {},
   "cell_type": "markdown",
   "metadata": {},
   "source": [
    "9) Imprimir los números primos existentes entre 0 y 30"
   ]
  },
  {
   "cell_type": "code",
   "execution_count": 60,
   "metadata": {},
   "outputs": [
    {
     "name": "stdout",
     "output_type": "stream",
     "text": [
      "El primo es 2\n",
      "El primo es 3\n",
      "El primo es 5\n",
      "El primo es 7\n",
      "El primo es 11\n",
      "El primo es 13\n",
      "El primo es 17\n",
      "El primo es 19\n",
      "El primo es 23\n",
      "El primo es 29\n"
     ]
    }
   ],
   "source": [
    "rango=30\n",
    "n=2\n",
    "primo=True\n",
    "while n<rango:\n",
    "  for m in range (2,n):\n",
    "    if(n%m==0):\n",
    "      primo=False\n",
    "  if(primo):\n",
    "    print(\"El primo es\",n)\n",
    "  else:\n",
    "    primo=True\n",
    "  n+=1"
   ]
  },
  {
   "attachments": {},
   "cell_type": "markdown",
   "metadata": {},
   "source": [
    "10) ¿Se puede mejorar el proceso del punto 9? Utilizar las sentencias break y/ó continue para tal fin"
   ]
  },
  {
   "cell_type": "code",
   "execution_count": 103,
   "metadata": {},
   "outputs": [
    {
     "name": "stdout",
     "output_type": "stream",
     "text": [
      "El primo es 2\n",
      "El primo es 3\n",
      "El primo es 5\n",
      "El primo es 7\n",
      "El primo es 11\n",
      "El primo es 13\n",
      "El primo es 17\n",
      "El primo es 19\n",
      "El primo es 23\n",
      "El primo es 29\n"
     ]
    }
   ],
   "source": [
    "rango=30\n",
    "n=2\n",
    "primo=True\n",
    "while n<=rango:\n",
    "  for m in range (2,n):\n",
    "    if(n%m==0):\n",
    "      primo=False\n",
    "      break\n",
    "  if(primo):\n",
    "    print(\"El primo es\",n)\n",
    "  else:\n",
    "    primo=True\n",
    "  n+=1"
   ]
  },
  {
   "attachments": {},
   "cell_type": "markdown",
   "metadata": {},
   "source": [
    "11) En los puntos 9 y 10, se diseño un código que encuentra números primos y además se lo optimizó. ¿Es posible saber en qué medida se optimizó?"
   ]
  },
  {
   "cell_type": "code",
   "execution_count": 126,
   "metadata": {},
   "outputs": [
    {
     "name": "stdout",
     "output_type": "stream",
     "text": [
      "2\n",
      "3\n",
      "5\n",
      "7\n",
      "11\n",
      "13\n",
      "17\n",
      "19\n",
      "23\n",
      "29\n",
      "Cantidad de ciclos: 378\n",
      "2\n",
      "3\n",
      "5\n",
      "7\n",
      "11\n",
      "13\n",
      "17\n",
      "19\n",
      "23\n",
      "29\n",
      "Cantidad de ciclos: 134\n"
     ]
    }
   ],
   "source": [
    "rango = 30\n",
    "ciclos = 0\n",
    "n = 2  # Empezamos desde 2 ya que 0 y 1 no son primos\n",
    "while n < rango:\n",
    "    primo = True\n",
    "    for m in range(2, n):\n",
    "        ciclos += 1\n",
    "        if n % m == 0:\n",
    "            primo = False\n",
    "    if primo:\n",
    "        print(n)\n",
    "    n += 1\n",
    "print('Cantidad de ciclos:', ciclos)\n",
    "\n",
    "rango = 30\n",
    "ciclos_break= 0\n",
    "n = 2  # Empezamos desde 2 ya que 0 y 1 no son primos\n",
    "while n < rango:\n",
    "    primo = True\n",
    "    for m in range(2, n):\n",
    "        ciclos_break += 1\n",
    "        if n % m == 0:\n",
    "            primo = False\n",
    "            break\n",
    "    if primo:\n",
    "        print(n)\n",
    "    n += 1\n",
    "print('Cantidad de ciclos:', ciclos_break)"
   ]
  },
  {
   "attachments": {},
   "cell_type": "markdown",
   "metadata": {},
   "source": [
    "12) Aplicando continue, armar un ciclo while que solo imprima los valores divisibles por 12, dentro del rango de números de 100 a 300"
   ]
  },
  {
   "cell_type": "code",
   "execution_count": 128,
   "metadata": {},
   "outputs": [
    {
     "name": "stdout",
     "output_type": "stream",
     "text": [
      "108\n",
      "120\n",
      "132\n",
      "144\n",
      "156\n",
      "168\n",
      "180\n",
      "192\n",
      "204\n",
      "216\n",
      "228\n",
      "240\n",
      "252\n",
      "264\n",
      "276\n",
      "288\n",
      "300\n"
     ]
    }
   ],
   "source": [
    "\n",
    "x3=100\n",
    "y3=300\n",
    "while x3<=y3:\n",
    "    if x3%12!=0:\n",
    "        x3+=1\n",
    "        continue\n",
    "    print(x3)\n",
    "    x3+=1"
   ]
  },
  {
   "attachments": {},
   "cell_type": "markdown",
   "metadata": {},
   "source": [
    "13) Utilizar la función **input()** que permite hacer ingresos por teclado, para encontrar números primos y dar la opción al usuario de buscar el siguiente"
   ]
  },
  {
   "cell_type": "code",
   "execution_count": 1,
   "metadata": {},
   "outputs": [
    {
     "name": "stdout",
     "output_type": "stream",
     "text": [
      "El siguiente número primo después de 1 es: 2\n",
      "El siguiente número primo después de 0 es: 2\n",
      "El siguiente número primo después de 0 es: 2\n",
      "El siguiente número primo después de 4 es: 5\n",
      "El siguiente número primo después de 5 es: 7\n",
      "El siguiente número primo después de 8 es: 11\n",
      "El siguiente número primo después de 3 es: 5\n",
      "Error: Por favor ingresa un número válido.\n",
      "¡Hasta luego!\n"
     ]
    }
   ],
   "source": [
    "def es_primo(num):\n",
    "    if num <= 1:\n",
    "        return False\n",
    "    elif num <= 3:\n",
    "        return True\n",
    "    elif num % 2 == 0 or num % 3 == 0:\n",
    "        return False\n",
    "    i = 5\n",
    "    while i * i <= num:\n",
    "        if num % i == 0 or num % (i + 2) == 0:\n",
    "            return False\n",
    "        i += 6\n",
    "    return True\n",
    "\n",
    "def encontrar_siguiente_primo(desde):\n",
    "    siguiente = desde + 1\n",
    "    while True:\n",
    "        if es_primo(siguiente):\n",
    "            return siguiente\n",
    "        siguiente += 1\n",
    "\n",
    "while True:\n",
    "    try:\n",
    "        entrada_usuario = input(\"Ingresa un número para encontrar el siguiente primo (o 'salir' para terminar): \")\n",
    "        if entrada_usuario.lower() == 'salir':\n",
    "            print(\"¡Hasta luego!\")\n",
    "            break\n",
    "        numero = int(entrada_usuario)\n",
    "        siguiente_primo = encontrar_siguiente_primo(numero)\n",
    "        print(f\"El siguiente número primo después de {numero} es: {siguiente_primo}\")\n",
    "    except ValueError:\n",
    "        print(\"Error: Por favor ingresa un número válido.\")\n"
   ]
  },
  {
   "attachments": {},
   "cell_type": "markdown",
   "metadata": {},
   "source": [
    "14) Crear un ciclo while que encuentre dentro del rango de 100 a 300 el primer número divisible por 3 y además múltiplo de 6"
   ]
  },
  {
   "cell_type": "code",
   "execution_count": 5,
   "metadata": {},
   "outputs": [
    {
     "name": "stdout",
     "output_type": "stream",
     "text": [
      "El primer numero divisible por 3 y multiplo de 6 del rango es: 102\n"
     ]
    }
   ],
   "source": [
    "numero=100\n",
    "\n",
    "while numero<=300:\n",
    "    if numero%3==0 and numero%6==0:\n",
    "        print(\"El primer numero divisible por 3 y multiplo de 6 del rango es:\",numero)\n",
    "        break\n",
    "    numero+=1"
   ]
  }
 ],
 "metadata": {
  "interpreter": {
   "hash": "c85384e4cb51c8b72350f3a8712cc8351fdc3955e32a27f9b60c6242ab125f01"
  },
  "kernelspec": {
   "display_name": "Python 3 (ipykernel)",
   "language": "python",
   "name": "python3"
  },
  "language_info": {
   "codemirror_mode": {
    "name": "ipython",
    "version": 3
   },
   "file_extension": ".py",
   "mimetype": "text/x-python",
   "name": "python",
   "nbconvert_exporter": "python",
   "pygments_lexer": "ipython3",
   "version": "3.11.5"
  }
 },
 "nbformat": 4,
 "nbformat_minor": 4
}
